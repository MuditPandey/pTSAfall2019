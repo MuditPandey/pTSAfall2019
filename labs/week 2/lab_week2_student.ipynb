{
 "cells": [
  {
   "cell_type": "markdown",
   "metadata": {},
   "source": [
    "# DS-GA 3001.009 Modeling Time Series Data\n",
    "# Week 2 ACF, CCF and ARMA"
   ]
  },
  {
   "cell_type": "markdown",
   "metadata": {},
   "source": [
    "functions and packages needed"
   ]
  },
  {
   "cell_type": "code",
   "execution_count": null,
   "metadata": {},
   "outputs": [],
   "source": [
    "# Install statsmodels\n",
    "# conda install -c conda-forge statsmodels\n",
    "import statsmodels\n",
    "from statsmodels.tsa.stattools import acf, ccf, pacf\n",
    "from statsmodels.graphics.tsaplots import plot_acf, plot_pacf\n",
    "from statsmodels.graphics import utils\n",
    "import numpy as np\n",
    "import matplotlib.pyplot as plt\n",
    "import pandas as pd\n",
    "import statsmodels.api as sm\n",
    "from statsmodels.graphics.api import qqplot"
   ]
  },
  {
   "cell_type": "code",
   "execution_count": null,
   "metadata": {},
   "outputs": [],
   "source": [
    "# statsmodels.graphics.tsaplots doesn't have plotting function for CCF so I have to write my own.\n",
    "def plot_ccf(x, y, ax=None, lags=None, alpha=.05, use_vlines=True, unbiased=False,\n",
    "             fft=False, title='Cross-correlation', zero=True, **kwargs):\n",
    "    fig, ax = utils.create_mpl_ax(ax)\n",
    "    lags, nlags, irregular = statsmodels.graphics.tsaplots._prepare_data_corr_plot(x, lags, zero)\n",
    "    confint = None\n",
    "    ccf_val = ccf(x, y)\n",
    "    if lags is not None:\n",
    "        ccf_val = ccf_val[:nlags+1]\n",
    "    statsmodels.graphics.tsaplots._plot_corr(ax, title, ccf_val, confint, lags, irregular, use_vlines, **kwargs)\n",
    "    return fig"
   ]
  },
  {
   "cell_type": "markdown",
   "metadata": {},
   "source": [
    "## Part I:  Autocorrelation Function"
   ]
  },
  {
   "cell_type": "markdown",
   "metadata": {},
   "source": [
    "### A) implement ACF\n",
    "Do your own implementation of the ACF function. Your implementation will be checked against statsmodels.tsa.stattools.acf."
   ]
  },
  {
   "cell_type": "code",
   "execution_count": null,
   "metadata": {},
   "outputs": [],
   "source": [
    "def acf_impl(x, nlags):\n",
    "    \"\"\"\n",
    "    TODO\n",
    "    @param x: a 1-d numpy array (data)\n",
    "    @param nlags: an integer indicating how far back to compute the ACF\n",
    "    @return a 1-d numpy array with (nlags+1) elements. \n",
    "            Where the first element denotes the acf at lag = 0 (1.0 by definition).\n",
    "    \"\"\"\n",
    "    #TODO: replace the template code with your code here. This part will be graded.\n",
    "    return np.zeros(nlags+1)"
   ]
  },
  {
   "cell_type": "markdown",
   "metadata": {},
   "source": [
    "### B) ACF of White Noise \n",
    "\n",
    "$$w_t \\sim N(0, \\sigma^2)$$\n",
    "\n",
    "- Set $\\sigma$ = 1, sample n = 500 points from the process above\n",
    "- Plot the white noise\n",
    "- Plot the sample ACF up to lag = 20.\n",
    "- Calculate the analytical ACF and compare it with the sample ACF.\n",
    "- What trend/observation can you find in the ACF plot?\n",
    "- Change n to 50, compare the new ACF plot (n=50) to the old ACF plot (n=500). What causes the difference?"
   ]
  },
  {
   "cell_type": "code",
   "execution_count": null,
   "metadata": {},
   "outputs": [],
   "source": [
    "n = 500\n",
    "mean = 0\n",
    "std = 1 \n",
    "lag = 20\n",
    "\n",
    "# create white noise\n",
    "w_t = np.random.normal(mean, std, size=n)\n",
    "\n",
    "# plot white noise\n",
    "plt.plot(w_t)\n",
    "plt.title(\"white noise w_t\")\n",
    "plt.show()\n",
    "\n",
    "# calculate acf\n",
    "acf_val = acf(x=w_t, nlags=lag)\n",
    "plot_acf(x=w_t, lags=lag, title=\"ACF w_t\")\n",
    "plt.show()\n",
    "\n",
    "# your implementation:\n",
    "acf_val_impl = acf_impl(x=w_t, nlags=lag)\n",
    "plt.figure()\n",
    "plt.plot(acf_val, 'or', label='statsmodels acf')\n",
    "plt.plot(acf_val_impl, 'xb', label='own acf')\n",
    "plt.legend();\n",
    "plt.title('your ACF impl against statsmodels')"
   ]
  },
  {
   "cell_type": "markdown",
   "metadata": {},
   "source": [
    "### C) ACF of Moving Average \n",
    "\n",
    "$$v_t = \\frac{1}{3}(w_{t}+ w_{t+1}+ w_{t+2})$$\n",
    "\n",
    "- Sample n+2 white noise from N(0,1)\n",
    "- Add code to compute the moving average $v_t$.\n",
    "- Plot both $w_t$ and $v_t$ and compare the two time series.\n",
    "- Derive the analytical ACF\n",
    "- Plot the sample/empirical ACF of $v_t$ and compare it with the analytical ACF."
   ]
  },
  {
   "cell_type": "code",
   "execution_count": null,
   "metadata": {},
   "outputs": [],
   "source": [
    "n = 500\n",
    "mean = 0\n",
    "std = 1 \n",
    "lag = 20\n",
    "\n",
    "# create white noise\n",
    "w_t = np.random.normal(mean, std, size=n+2)\n",
    "# create moving average\n",
    "#TODO: replace the template code with your code here. This part will be graded.\n",
    "v_t = np.zeros(len(w_t))  \n",
    "\n",
    "# plot white noise\n",
    "plt.figure(1)\n",
    "plt.subplot(211)\n",
    "plt.plot(w_t)\n",
    "plt.title(\"w_t\")\n",
    "\n",
    "# plot moving average\n",
    "plt.subplot(212)\n",
    "plt.plot(v_t)\n",
    "plt.title(\"v_t\")\n",
    "\n",
    "# calculate acf\n",
    "acf_val = acf(x=v_t, nlags=lag)\n",
    "plot_acf(x=v_t, lags=lag)\n",
    "plt.show()\n",
    "\n",
    "# your implementation:\n",
    "acf_val_impl = acf_impl(x=v_t, nlags=lag)\n",
    "plt.figure()\n",
    "plt.plot(acf_val, 'or', label='statsmodels acf')\n",
    "plt.plot(acf_val_impl, 'xb', label='own acf')\n",
    "plt.legend();\n",
    "plt.title('your ACF impl against statsmodels')"
   ]
  },
  {
   "cell_type": "markdown",
   "metadata": {},
   "source": [
    "### D) ACF of signal in noise \n",
    "\n",
    "$$v_t = 2 cos(\\frac{2\\pi t}{50} + 0.6\\pi) + w_t$$\n",
    "\n",
    "- Sample white noise of length n from $N(0,1)$\n",
    "- Add code to compute $v_t$.\n",
    "- Plot both $w_t$ and $v_t$. Compare the two plots.\n",
    "- Plot the sample ACF of $v_t$. What's the pattern? What causes the observed pattern?"
   ]
  },
  {
   "cell_type": "code",
   "execution_count": null,
   "metadata": {},
   "outputs": [],
   "source": [
    "n = 500\n",
    "mean = 0\n",
    "std = 1 \n",
    "lag = 100\n",
    "\n",
    "# create white noise\n",
    "w_t = np.random.normal(mean, std, size=n)\n",
    "# create signal w. noise\n",
    "#TODO: replace the template code with your code here. This part will be graded.\n",
    "v_t = np.zeros(len(w_t))  \n",
    "\n",
    "\n",
    "# plot white noise\n",
    "plt.figure(1)\n",
    "plt.subplot(211)\n",
    "plt.plot(w_t)\n",
    "plt.title(\"w_t\")\n",
    "# plot signal with noise\n",
    "plt.subplot(212)\n",
    "plt.plot(v_t)\n",
    "plt.title(\"v_t\")\n",
    "\n",
    "# plot acf\n",
    "acf_val = acf(x=v_t, nlags=lag)\n",
    "plot_acf(x=v_t, lags=lag, title=\"ACF v_t\")\n",
    "plt.show()\n",
    "\n",
    "# your implementation:\n",
    "acf_val_impl = acf_impl(x=v_t, nlags=lag)\n",
    "plt.figure()\n",
    "plt.plot(acf_val, 'or', label='statsmodels acf')\n",
    "plt.plot(acf_val_impl, 'xb', label='own acf')\n",
    "plt.legend();\n",
    "plt.title('your ACF impl against statsmodels')"
   ]
  },
  {
   "cell_type": "markdown",
   "metadata": {},
   "source": [
    "## Part II:  Cross-correlation Function"
   ]
  },
  {
   "cell_type": "markdown",
   "metadata": {},
   "source": [
    "### A) CCF of signal with noise\n",
    "#### Synthetic Data\n",
    "\n",
    "$$x_t \\sim N(0, \\sigma_x^2) $$\n",
    "\n",
    "$$ y_t = 2x_{t-5} + w_t\n",
    "w_t \\sim N(0, \\sigma_x^2)$$\n",
    "\n",
    "- In this example, we created two processes with a lag of 5.\n",
    "- Plot both samples and verify the lag.\n",
    "- Plot the empirical ACF for both samples.\n",
    "- Plot the empirical CCF. What information can you conclude from the CCF plot?"
   ]
  },
  {
   "cell_type": "code",
   "execution_count": null,
   "metadata": {},
   "outputs": [],
   "source": [
    "# Cross-correlation synthetic Example\n",
    "n = 100\n",
    "mean = 0\n",
    "std = 1 \n",
    "lag=40\n",
    "true_h = 5\n",
    "\n",
    "x_t = np.random.normal(mean, std, size=n+5)\n",
    "x_t = x_t[:n]\n",
    "#TODO: replace the template code with your code here. This part will be graded.\n",
    "y_t = np.zeros(n)\n",
    "\n",
    "# plot the original data\n",
    "plt.plot(x_t)\n",
    "plt.title(\"x_t\")\n",
    "plt.show()\n",
    "plt.plot(y_t)\n",
    "plt.title(\"y_t\")\n",
    "plt.show()\n",
    "\n",
    "# plot acf\n",
    "plot_acf(x=x_t, lags=lag, title=\"ACF x_t\")\n",
    "plot_acf(x=y_t, lags=lag, title=\"ACF y_t\")\n",
    "plt.show()\n",
    "\n",
    "# plot ccf\n",
    "ccf_val = ccf(y_t, x_t)\n",
    "plot_ccf(x_t, y_t, title=\"CCF\", lags=10)\n",
    "plt.show()"
   ]
  },
  {
   "cell_type": "markdown",
   "metadata": {},
   "source": [
    "### B) CCF of data\n",
    "#### Southern Oscillation Index (SOI) v.s. Recruitment (Rec)"
   ]
  },
  {
   "cell_type": "markdown",
   "metadata": {},
   "source": [
    "- Replicate the procedure in the previous section.\n",
    "- What information can you tell from the CCF plot.\n",
    "- In this example, our procedure is actually flawed. Unlike the previous example, we can not tell if the cross-correlation estimate is significantly different from zero by looking at the CCF. Why is that? What can we do to address this issue?"
   ]
  },
  {
   "cell_type": "code",
   "execution_count": null,
   "metadata": {},
   "outputs": [],
   "source": [
    "path = 'C:/Users/carol/Documents/GitHub/timeseries2018/data/'\n",
    "soi = np.array(pd.read_csv(path+\"soi.csv\")[\"x\"])\n",
    "rec = np.array(pd.read_csv(path+\"rec.csv\")[\"x\"])\n",
    "#soi = np.array(pd.read_csv(\"../../data/soi.csv\")[\"x\"])\n",
    "#rec = np.array(pd.read_csv(\"../../data/rec.csv\")[\"x\"])\n",
    "#TODO: This part will be graded.\n",
    "# plot data\n",
    "# plot acf\n",
    "# plot ccf\n"
   ]
  },
  {
   "cell_type": "markdown",
   "metadata": {},
   "source": [
    "## Part III: AR models"
   ]
  },
  {
   "cell_type": "markdown",
   "metadata": {},
   "source": [
    "In this example, we will fit an AR(p) model to the SunActivity data, which denotes the number of sunspots for each year.\n",
    "\n",
    "We will determine p, fit the model, compute the roots and the lag 0 to p components of the ACF.\n",
    "\n",
    "Wikipedia for sunspots: https://en.wikipedia.org/wiki/Sunspot\n",
    "\n",
    "The code in this section is selected from the tutorial specified in the reference section."
   ]
  },
  {
   "cell_type": "code",
   "execution_count": null,
   "metadata": {},
   "outputs": [],
   "source": [
    "dta = sm.datasets.sunspots.load_pandas().data\n",
    "dta.index = pd.Index(sm.tsa.datetools.dates_from_range('1700', '2008'))\n",
    "del dta[\"YEAR\"]\n",
    "dta.plot(figsize=(12,8))\n",
    "plt.show()"
   ]
  },
  {
   "cell_type": "markdown",
   "metadata": {},
   "source": [
    "#### ACF & PACF"
   ]
  },
  {
   "cell_type": "code",
   "execution_count": null,
   "metadata": {},
   "outputs": [],
   "source": [
    "fig = plt.figure(figsize=(12,8))\n",
    "ax1 = fig.add_subplot(211)\n",
    "fig = sm.graphics.tsa.plot_acf(dta.values.squeeze(), lags=40, ax=ax1)\n",
    "ax2 = fig.add_subplot(212)\n",
    "fig = sm.graphics.tsa.plot_pacf(dta, lags=40, ax=ax2)\n",
    "plt.show()"
   ]
  },
  {
   "cell_type": "markdown",
   "metadata": {},
   "source": [
    "#### Fit AR Model of order p\n"
   ]
  },
  {
   "cell_type": "code",
   "execution_count": null,
   "metadata": {},
   "outputs": [],
   "source": [
    "# TODO: chose p appropriately\n",
    "p = 1\n",
    "\n",
    "arma_mod = sm.tsa.ARMA(dta, (p,0)).fit(disp=False)\n",
    "print(arma_mod.params)\n",
    "\n",
    "# TODO: predict ACF of model at lag 0, 1, ..., p\n",
    "rho = np.zeros(p+1)\n",
    "    \n",
    "# TODO: compute roots\n",
    "roots = np.zeros(2)\n",
    "\n",
    "print('roots: ', roots)"
   ]
  },
  {
   "cell_type": "markdown",
   "metadata": {},
   "source": [
    "#### prediction"
   ]
  },
  {
   "cell_type": "code",
   "execution_count": null,
   "metadata": {},
   "outputs": [],
   "source": [
    "predict_sunspots = arma_mod.predict('1990', '2012', dynamic=True)\n",
    "print(predict_sunspots)"
   ]
  },
  {
   "cell_type": "code",
   "execution_count": null,
   "metadata": {},
   "outputs": [],
   "source": [
    "# TODO: try to predict further into the future by increasing tsteps\n",
    "tsteps=5\n",
    "\n",
    "fig, ax = plt.subplots(figsize=(12, 8))\n",
    "ax = dta.ix['1900':].plot(ax=ax)\n",
    "T = np.arange(1930, 2010, tsteps)\n",
    "for tt in range(len(T)-1):\n",
    "    fig = arma_mod.plot_predict(np.str(T[tt]), np.str(T[tt+1]), dynamic=True, ax=ax, plot_insample=False)\n",
    "plt.show()"
   ]
  },
  {
   "cell_type": "markdown",
   "metadata": {},
   "source": [
    "#### plot ACF and PACF"
   ]
  },
  {
   "cell_type": "code",
   "execution_count": null,
   "metadata": {},
   "outputs": [],
   "source": [
    "predict_sunspots = arma_mod.predict('1950', '2012', dynamic=True)\n",
    "\n",
    "fig = plt.figure(figsize=(12,8))\n",
    "ax1 = fig.add_subplot(211)\n",
    "fig = sm.graphics.tsa.plot_acf(dta.values.squeeze(), lags=40, ax=ax1)\n",
    "fig = sm.graphics.tsa.plot_acf(predict_sunspots, lags=40, ax=ax1)\n",
    "ax1.plot(np.arange(p+1), rho, 'xr', label='prediction')\n",
    "ax1.legend()\n",
    "ax2 = fig.add_subplot(212)\n",
    "fig = sm.graphics.tsa.plot_pacf(dta, lags=40, ax=ax2)\n",
    "fig = sm.graphics.tsa.plot_pacf(predict_sunspots, lags=40, ax=ax2)\n",
    "plt.show()"
   ]
  },
  {
   "cell_type": "markdown",
   "metadata": {
    "collapsed": true
   },
   "source": [
    "## Part IV\n",
    "### Moving Average"
   ]
  },
  {
   "cell_type": "markdown",
   "metadata": {
    "collapsed": true
   },
   "source": [
    "$$x_t = 0.5 x_{t-1} - 0.5 w_{t-1} + w_t$$\n",
    "\n",
    "$$w_t\\sim N(0, \\sigma^2)$$\n",
    "\n",
    "Is $x_t$ same as white noise $w_t$?\n",
    "Think about ACF.\n",
    "\n",
    "Then use code below to assess and verify your guess."
   ]
  },
  {
   "cell_type": "code",
   "execution_count": null,
   "metadata": {},
   "outputs": [],
   "source": [
    "n = 200\n",
    "mean = 0\n",
    "std = 1 \n",
    "lag = 20\n",
    "\n",
    "# create white noise\n",
    "np.random.seed(0)\n",
    "x_t = list(np.random.normal(mean, std, size=1))\n",
    "w_t = np.random.normal(mean, std, size=n+1) \n",
    "for i in range(1, n+1):\n",
    "    x_t.append(0.5 * x_t[i-1] - 0.5 * w_t[i-1] + w_t[i] )\n",
    "\n",
    "# plot x_t & w_t\n",
    "plt.plot(w_t)\n",
    "plt.title(\"w_t\")\n",
    "plt.show()\n",
    "plt.plot(x_t)\n",
    "plt.title(\"x_t\")\n",
    "plt.show()\n",
    "\n",
    "# acf & pacf\n",
    "plot_acf(x=x_t, lags=lag, title=\"ACF x_t\")\n",
    "plot_acf(x=w_t, lags=lag, title=\"ACF w_t\")\n",
    "plt.show()"
   ]
  },
  {
   "cell_type": "markdown",
   "metadata": {},
   "source": [
    "$$x_t = w_t + \\frac{1}{5} w_{t-1}, w_t \\sim N(0, 25)$$\n",
    "\n",
    "$$y_t = v_t + 5 v_{t-1}, v_t \\sim N(0,1)$$\n",
    "\n",
    "Are $x_t$ and $y_t$ the same? Think about ACF.\n",
    "\n",
    "Then use code below to assess and verify your guess."
   ]
  },
  {
   "cell_type": "code",
   "execution_count": null,
   "metadata": {},
   "outputs": [],
   "source": [
    "n = 200\n",
    "mean = 0\n",
    "lag = 20\n",
    "\n",
    "# create white noise\n",
    "np.random.seed(0)\n",
    "x_t = list(np.random.normal(mean, std, size=1))\n",
    "w_t = np.random.normal(mean, 5, size=n+1) \n",
    "np.random.seed(0)\n",
    "y_t = list(np.random.normal(mean, std, size=1))\n",
    "v_t = np.random.normal(mean, 1, size=n+2) \n",
    "for i in range(2, n+1):\n",
    "    x_t.append(w_t[i] + 0.2 * w_t[i-1])\n",
    "    y_t.append(v_t[i] + 5 * v_t[i-1])\n",
    "\n",
    "# plot x_t & y_t\n",
    "plt.plot(x_t)\n",
    "plt.title(\"x_t\")\n",
    "plt.show()\n",
    "plt.plot(y_t)\n",
    "plt.title(\"y_t\")\n",
    "plt.show()\n",
    "\n",
    "# acf & pacf\n",
    "plot_acf(x=x_t, lags=lag, title=\"ACF x_t\")\n",
    "plot_acf(x=y_t, lags=lag, title=\"ACF y_t\")\n",
    "plt.show()"
   ]
  },
  {
   "cell_type": "code",
   "execution_count": null,
   "metadata": {},
   "outputs": [],
   "source": []
  },
  {
   "cell_type": "markdown",
   "metadata": {},
   "source": [
    "### Please turn in the code before 09/25/2019 3:00 pm. \n",
    "\n",
    "### Your work will be evaluated based on the code and plots. You don't need to write down your answers to these questions in the text blocks. Everything that will be graded is indicated by the \"TODO\"."
   ]
  },
  {
   "cell_type": "code",
   "execution_count": null,
   "metadata": {},
   "outputs": [],
   "source": []
  }
 ],
 "metadata": {
  "anaconda-cloud": {},
  "kernelspec": {
   "display_name": "Python 3",
   "language": "python",
   "name": "python3"
  },
  "language_info": {
   "codemirror_mode": {
    "name": "ipython",
    "version": 3
   },
   "file_extension": ".py",
   "mimetype": "text/x-python",
   "name": "python",
   "nbconvert_exporter": "python",
   "pygments_lexer": "ipython3",
   "version": "3.6.9"
  }
 },
 "nbformat": 4,
 "nbformat_minor": 1
}
